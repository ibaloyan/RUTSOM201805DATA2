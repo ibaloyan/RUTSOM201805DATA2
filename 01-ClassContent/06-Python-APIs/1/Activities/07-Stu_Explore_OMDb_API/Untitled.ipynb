{
 "cells": [
  {
   "cell_type": "code",
   "execution_count": 1,
   "metadata": {
    "collapsed": true
   },
   "outputs": [],
   "source": [
    "import requests\n",
    "import json\n"
   ]
  },
  {
   "cell_type": "code",
   "execution_count": 2,
   "metadata": {},
   "outputs": [
    {
     "name": "stdout",
     "output_type": "stream",
     "text": [
      "Which movie do you want to search for: Inception\n",
      "http://www.omdbapi.com/?t=Inception&plot=full\n"
     ]
    }
   ],
   "source": [
    "base_url=\"http://www.omdbapi.com/?t=\"\n",
    "movie_name=input(\"Which movie do you want to search for: \")\n",
    "url=base_url+movie_name+\"&plot=full\"\n",
    "print(url)\n"
   ]
  },
  {
   "cell_type": "code",
   "execution_count": null,
   "metadata": {
    "collapsed": true
   },
   "outputs": [],
   "source": []
  }
 ],
 "metadata": {
  "kernelspec": {
   "display_name": "Python 3",
   "language": "python",
   "name": "python3"
  },
  "language_info": {
   "codemirror_mode": {
    "name": "ipython",
    "version": 3
   },
   "file_extension": ".py",
   "mimetype": "text/x-python",
   "name": "python",
   "nbconvert_exporter": "python",
   "pygments_lexer": "ipython3",
   "version": "3.6.3"
  }
 },
 "nbformat": 4,
 "nbformat_minor": 2
}
