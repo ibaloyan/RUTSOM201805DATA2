{
  "cells": [
    {
      "cell_type": "code",
      "source": [
        "# Dependencies\n",
        "import pandas as pd\n",
        "import tweepy\n",
        "import time\n",
        "import json\n",
        "import random\n",
        "from config import consumer_key, consumer_secret, access_token, access_token_secret"
      ],
      "outputs": [],
      "execution_count": null,
      "metadata": {
        "collapsed": true
      }
    },
    {
      "cell_type": "code",
      "source": [
        "# Twitter API Keys\n",
        "consumer_key = consumer_key\n",
        "consumer_secret = consumer_secret\n",
        "access_token = access_token\n",
        "access_token_secret = access_token_secret"
      ],
      "outputs": [],
      "execution_count": null,
      "metadata": {
        "collapsed": true
      }
    },
    {
      "cell_type": "code",
      "source": [
        "# Quotes to Tweet\n",
        "happy_quotes = [\n",
        "    \"For every minute you are angry you lose sixty seconds of happiness. - Ralph Waldo Emerson\",\n",
        "    \"Folks are usually about as happy as they make their minds up to be. - Abraham Lincoln\",\n",
        "    \"Happiness is when what you think, what you say, and what you do are in harmony. - Mahatma Gandhi\",\n",
        "    \"Count your age by friends, not years. Count your life by smiles, not tears. - John Lennon\",\n",
        "    \"Happiness is a warm puppy. - Charles M. Schulz\",\n",
        "    \"The happiness of your life depends upon the quality of your thoughts. - Marcus Aurelius\",\n",
        "    \"Now and then it's good to pause in our pursuit of happiness and just be happy. - Guillaume Apollinaire\"]"
      ],
      "outputs": [],
      "execution_count": null,
      "metadata": {
        "collapsed": true
      }
    },
    {
      "cell_type": "code",
      "source": [
        "# Create function for tweeting\n",
        "\n\n",
        "    # Twitter credentials\n",
        "\n\n",
        "    # Tweet a random quote\n",
        "\n\n",
        "    # Print success message\n"
      ],
      "outputs": [],
      "execution_count": null,
      "metadata": {
        "collapsed": true
      }
    },
    {
      "cell_type": "code",
      "source": [
        "# Set timer to run every minute\n"
      ],
      "outputs": [],
      "execution_count": null,
      "metadata": {}
    },
    {
      "cell_type": "code",
      "source": [],
      "outputs": [],
      "execution_count": null,
      "metadata": {
        "collapsed": true
      }
    }
  ],
  "metadata": {
    "kernelspec": {
      "display_name": "Python [conda env:anaconda]",
      "language": "python",
      "name": "conda-env-anaconda-py"
    },
    "language_info": {
      "codemirror_mode": {
        "name": "ipython",
        "version": 3
      },
      "file_extension": ".py",
      "mimetype": "text/x-python",
      "name": "python",
      "nbconvert_exporter": "python",
      "pygments_lexer": "ipython3",
      "version": "3.5.5"
    },
    "nteract": {
      "version": "0.8.4"
    }
  },
  "nbformat": 4,
  "nbformat_minor": 2
}